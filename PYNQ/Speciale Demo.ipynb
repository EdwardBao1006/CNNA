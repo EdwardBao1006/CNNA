{
 "cells": [
  {
   "cell_type": "markdown",
   "metadata": {},
   "source": [
    "# Speciale Demo"
   ]
  },
  {
   "cell_type": "markdown",
   "metadata": {},
   "source": [
    "Load packages and image loading function"
   ]
  },
  {
   "cell_type": "code",
   "execution_count": 1,
   "metadata": {},
   "outputs": [
    {
     "data": {
      "application/javascript": [
       "\n",
       "require(['notebook/js/codecell'], function(codecell) {\n",
       "  codecell.CodeCell.options_default.highlight_modes[\n",
       "      'magic_text/x-csrc'] = {'reg':[/^%%microblaze/]};\n",
       "  Jupyter.notebook.events.one('kernel_ready.Kernel', function(){\n",
       "      Jupyter.notebook.get_cells().map(function(cell){\n",
       "          if (cell.cell_type == 'code'){ cell.auto_highlight(); } }) ;\n",
       "  });\n",
       "});\n"
      ]
     },
     "metadata": {},
     "output_type": "display_data"
    }
   ],
   "source": [
    "import numpy as np\n",
    "import NNAccelerator\n",
    "import time\n",
    "from PIL import Image\n",
    "from IPython.display import display\n",
    "\n",
    "def load_image(infilename):\n",
    "    img = Image.open(infilename)\n",
    "    img.load()\n",
    "    img = img.convert('RGB')\n",
    "    data = np.asarray(img,dtype=np.uint8)\n",
    "    return  data"
   ]
  },
  {
   "cell_type": "markdown",
   "metadata": {},
   "source": [
    "set NN and bit file"
   ]
  },
  {
   "cell_type": "code",
   "execution_count": 2,
   "metadata": {},
   "outputs": [],
   "source": [
    "VGG16Version = 'VGG_16'\n",
    "cnnName = 'VGG16'\n",
    "\n",
    "bitFileName = 'cnna6.16.8.3.800'\n",
    "    \n",
    "dataset = '_detect'\n",
    "\n",
    "bitFile = 'bitFiles/' + bitFileName + '/' + bitFileName + '.bit'\n",
    "cnnSpec = 'cnnSpecs/' + cnnName + '/' + cnnName+ dataset + '.json'\n",
    "cnnWeights = 'cnnSpecs/' + cnnName + '/' + cnnName + dataset + '_pre_'+ bitFileName+ '.h5'"
   ]
  },
  {
   "cell_type": "markdown",
   "metadata": {},
   "source": [
    "Initialize CNNA"
   ]
  },
  {
   "cell_type": "code",
   "execution_count": 3,
   "metadata": {},
   "outputs": [
    {
     "name": "stdout",
     "output_type": "stream",
     "text": [
      "dataW:  16 , dataP:  2 , dmaBW:  8 , PE_N:  8 , peBwN:  8 , dataOut:  3 , wbufSize:  800\n",
      "input_1 , kernelSize:  0 , nFilters:  0, filtersPrSplit:  0 , nSplits:  1 , outputSize:  [224, 224, 3]\n",
      ", paddingSize:  1.0block1_conv1 , kernelSize:  [3, 3] , nFilters:  64, filtersPrSplit:  64 , nSplits:  1.0 , outputSize:  (224.0, 224.0, 64)\n",
      ", paddingSize:  1.0block1_conv2 , kernelSize:  [3, 3] , nFilters:  64, filtersPrSplit:  64 , nSplits:  1.0 , outputSize:  (224.0, 224.0, 64)\n",
      ", paddingSize:  0block1_pool , kernelSize:  [2, 2] , nFilters:  0, filtersPrSplit:  0 , nSplits:  1 , outputSize:  (112.0, 112.0, 64)\n",
      ", paddingSize:  1.0block2_conv1 , kernelSize:  [3, 3] , nFilters:  128, filtersPrSplit:  128 , nSplits:  1.0 , outputSize:  (112.0, 112.0, 128)\n",
      ", paddingSize:  1.0block2_conv2 , kernelSize:  [3, 3] , nFilters:  128, filtersPrSplit:  128.0 , nSplits:  1.0 , outputSize:  (112.0, 112.0, 128)\n",
      ", paddingSize:  0block2_pool , kernelSize:  [2, 2] , nFilters:  0, filtersPrSplit:  0 , nSplits:  1 , outputSize:  (56.0, 56.0, 128)\n",
      ", paddingSize:  1.0block3_conv1 , kernelSize:  [3, 3] , nFilters:  256, filtersPrSplit:  128.0 , nSplits:  2.0 , outputSize:  (56.0, 56.0, 256)\n",
      ", paddingSize:  1.0block3_conv2 , kernelSize:  [3, 3] , nFilters:  256, filtersPrSplit:  64.0 , nSplits:  4.0 , outputSize:  (56.0, 56.0, 256)\n",
      ", paddingSize:  1.0block3_conv3 , kernelSize:  [3, 3] , nFilters:  256, filtersPrSplit:  64.0 , nSplits:  4.0 , outputSize:  (56.0, 56.0, 256)\n",
      ", paddingSize:  0block3_pool , kernelSize:  [2, 2] , nFilters:  0, filtersPrSplit:  0 , nSplits:  1 , outputSize:  (28.0, 28.0, 256)\n",
      ", paddingSize:  1.0block4_conv1 , kernelSize:  [3, 3] , nFilters:  512, filtersPrSplit:  64.0 , nSplits:  8.0 , outputSize:  (28.0, 28.0, 512)\n",
      ", paddingSize:  1.0block4_conv2 , kernelSize:  [3, 3] , nFilters:  512, filtersPrSplit:  32.0 , nSplits:  16.0 , outputSize:  (28.0, 28.0, 512)\n",
      ", paddingSize:  1.0block4_conv3 , kernelSize:  [3, 3] , nFilters:  512, filtersPrSplit:  32.0 , nSplits:  16.0 , outputSize:  (28.0, 28.0, 512)\n",
      ", paddingSize:  0block4_pool , kernelSize:  [2, 2] , nFilters:  0, filtersPrSplit:  0 , nSplits:  1 , outputSize:  (14.0, 14.0, 512)\n",
      ", paddingSize:  1.0block5_conv1 , kernelSize:  [3, 3] , nFilters:  512, filtersPrSplit:  32.0 , nSplits:  16.0 , outputSize:  (14.0, 14.0, 512)\n",
      ", paddingSize:  1.0block5_conv2 , kernelSize:  [3, 3] , nFilters:  512, filtersPrSplit:  32.0 , nSplits:  16.0 , outputSize:  (14.0, 14.0, 512)\n",
      ", paddingSize:  1.0block5_conv3 , kernelSize:  [3, 3] , nFilters:  512, filtersPrSplit:  32.0 , nSplits:  16.0 , outputSize:  (14.0, 14.0, 512)\n",
      ", paddingSize:  0block5_pool , kernelSize:  [2, 2] , nFilters:  0, filtersPrSplit:  0 , nSplits:  1 , outputSize:  (7.0, 7.0, 512)\n",
      "flatten_1 , kernelSize:  0 , nFilters:  0, filtersPrSplit:  0 , nSplits:  1 , outputSize:  25088.0\n",
      "dense_1 , kernelSize:  4096 , nFilters:  0, filtersPrSplit:  8 , nSplits:  512.0 , outputSize:  4096\n",
      "dense_2 , kernelSize:  4096 , nFilters:  0, filtersPrSplit:  8 , nSplits:  512.0 , outputSize:  4096\n",
      "dense_3 , kernelSize:  5 , nFilters:  0, filtersPrSplit:  8 , nSplits:  1.0 , outputSize:  5\n",
      "loading weights for  block1_conv1, time taken:  0.018833398818969727\n",
      "loading weights for  block1_conv2, time taken:  0.014472723007202148\n",
      "loading weights for  block1_pool, time taken:  0.002376556396484375\n",
      "loading weights for  block2_conv1, time taken:  0.019085407257080078\n",
      "loading weights for  block2_conv2, time taken:  0.023039817810058594\n",
      "loading weights for  block2_pool, time taken:  0.0023076534271240234\n",
      "loading weights for  block3_conv1, time taken:  0.031321048736572266\n",
      "loading weights for  block3_conv2, time taken:  0.0895242691040039\n",
      "loading weights for  block3_conv3, time taken:  0.07322835922241211\n",
      "loading weights for  block3_pool, time taken:  0.0034208297729492188\n",
      "loading weights for  block4_conv1, time taken:  0.13834500312805176\n",
      "loading weights for  block4_conv2, time taken:  0.3782782554626465\n",
      "loading weights for  block4_conv3, time taken:  0.3103373050689697\n",
      "loading weights for  block4_pool, time taken:  0.0020210742950439453\n",
      "loading weights for  block5_conv1, time taken:  0.32634830474853516\n",
      "loading weights for  block5_conv2, time taken:  0.4027249813079834\n",
      "loading weights for  block5_conv3, time taken:  0.31179380416870117\n",
      "loading weights for  block5_pool, time taken:  0.005800962448120117\n",
      "loading weights for  dense_1, time taken:  12.795216083526611\n",
      "loading weights for  dense_2, time taken:  1.7374472618103027\n",
      "loading weights for  dense_3, time taken:  0.005468845367431641\n",
      "loading weights for  flatten_1, time taken:  0.00072479248046875\n",
      "loading weights for  input_1, time taken:  0.0004150867462158203\n",
      "parameters\n",
      "fullParameters.shape:  (15955,)\n",
      "Loading time:  21.34071183204651\n"
     ]
    }
   ],
   "source": [
    "beforeAccLoad = time.time()\n",
    "acc = NNAccelerator.NNAccelerator(bitfile = bitFile, \n",
    "                                  NNJsonSpec = cnnSpec, \n",
    "                                  H5Weights = cnnWeights, \n",
    "                                  preConverted = True, \n",
    "                                  preAlligned = True,\n",
    "                                  verboseLevel = 0.2,\n",
    "                                  dmaSafe = True)\n",
    "afterAccLoad = time.time()\n",
    "print('Loading time: ',afterAccLoad-beforeAccLoad)"
   ]
  },
  {
   "cell_type": "markdown",
   "metadata": {},
   "source": [
    "load and display image"
   ]
  },
  {
   "cell_type": "code",
   "execution_count": 10,
   "metadata": {},
   "outputs": [
    {
     "data": {
      "image/png": "[encoded data removed]",
      "text/plain": [
       "<PIL.Image.Image image mode=RGB size=224x224 at 0x7F969FA160>"
      ]
     },
     "metadata": {},
     "output_type": "display_data"
    }
   ],
   "source": [
    "imageFile = 'detect/detect3_1.jpg'\n",
    "img = load_image(imageFile)\n",
    "x = np.expand_dims(img,axis=0)\n",
    "display(Image.fromarray(img))"
   ]
  },
  {
   "cell_type": "markdown",
   "metadata": {},
   "source": [
    "predict"
   ]
  },
  {
   "cell_type": "code",
   "execution_count": 11,
   "metadata": {},
   "outputs": [
    {
     "name": "stdout",
     "output_type": "stream",
     "text": [
      "starting prediction\n",
      "time taken:  2.2711708545684814\n",
      "time:  2.2711708545684814 , class:  2\n"
     ]
    }
   ],
   "source": [
    "before = time.time()\n",
    "t, out = acc.predict(x)\n",
    "after = time.time()\n",
    "print('time: ', t, ', class: ', out)"
   ]
  },
  {
   "cell_type": "code",
   "execution_count": null,
   "metadata": {},
   "outputs": [],
   "source": []
  }
 ],
 "metadata": {
  "kernelspec": {
   "display_name": "Python 3",
   "language": "python",
   "name": "python3"
  },
  "language_info": {
   "codemirror_mode": {
    "name": "ipython",
    "version": 3
   },
   "file_extension": ".py",
   "mimetype": "text/x-python",
   "name": "python",
   "nbconvert_exporter": "python",
   "pygments_lexer": "ipython3",
   "version": "3.6.5"
  }
 },
 "nbformat": 4,
 "nbformat_minor": 2
}
